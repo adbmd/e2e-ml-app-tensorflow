{
  "nbformat": 4,
  "nbformat_minor": 0,
  "metadata": {
    "colab": {
      "name": "notebook.ipynb",
      "provenance": [],
      "collapsed_sections": []
    },
    "kernelspec": {
      "name": "python3",
      "display_name": "Python 3"
    },
    "accelerator": "GPU"
  },
  "cells": [
    {
      "cell_type": "markdown",
      "metadata": {
        "id": "F-4Wf0sSR4Ya",
        "colab_type": "text"
      },
      "source": [
        "# Text Classification w/ <img src=\"https://raw.githubusercontent.com/madewithml/images/master/images/tensorflow.png\" width=\"25rem\"> TensorFlow\n",
        "\n",
        "<div align=\"left\">\n",
        "<a href=\"https://github.com/madewithml/e2e-ml-app-tensorflow/blob/master/notebook.ipynb\" role=\"button\"><img class=\"notebook-badge-image\" src=\"https://img.shields.io/static/v1?label=&amp;message=View%20On%20GitHub&amp;color=586069&amp;logo=github&amp;labelColor=2f363d\"></a>&nbsp;\n",
        "<a href=\"https://colab.research.google.com/github/madewithml/e2e-ml-app-tensorflow/blob/master/notebook.ipynb\"><img class=\"notebook-badge-image\" src=\"https://colab.research.google.com/assets/colab-badge.svg\" alt=\"Open In Colab\"></a>\n",
        "</div>"
      ]
    },
    {
      "cell_type": "markdown",
      "metadata": {
        "id": "xYI4M5P8SkrD",
        "colab_type": "text"
      },
      "source": [
        "When building at end-to-end project, I often start with exploring the dataset and doing some basic modeling on a notebook first. The ability to execute code without having to rerun everything start to finish for every iterative change is great way to iterate quickly. \n",
        "\n",
        "→ Check out the full repo here: [e2e-ml-app-tensorflow](https://github.com/madewithml/e2e-ml-app-tensorflow)"
      ]
    },
    {
      "cell_type": "code",
      "metadata": {
        "id": "6rtRslD2Ugf1",
        "colab_type": "code",
        "colab": {}
      },
      "source": [
        "import numpy as np\n",
        "import pandas as pd\n",
        "import random\n",
        "import tensorflow as tf"
      ],
      "execution_count": 0,
      "outputs": []
    },
    {
      "cell_type": "markdown",
      "metadata": {
        "id": "dKtwSXN-UYjC",
        "colab_type": "text"
      },
      "source": [
        "## Set up"
      ]
    },
    {
      "cell_type": "code",
      "metadata": {
        "id": "bfI9XQiCUdCt",
        "colab_type": "code",
        "colab": {}
      },
      "source": [
        "seed = 1234"
      ],
      "execution_count": 0,
      "outputs": []
    },
    {
      "cell_type": "code",
      "metadata": {
        "id": "1fkcrIttUZ5k",
        "colab_type": "code",
        "colab": {}
      },
      "source": [
        "# Set seeds for reproducibility\n",
        "np.random.seed(seed)\n",
        "random.seed(seed)\n",
        "tf.random.set_seed(seed)"
      ],
      "execution_count": 0,
      "outputs": []
    },
    {
      "cell_type": "markdown",
      "metadata": {
        "id": "GjEXugL2UsL-",
        "colab_type": "text"
      },
      "source": [
        "## Load data"
      ]
    },
    {
      "cell_type": "code",
      "metadata": {
        "id": "2KpVCxwaUy5P",
        "colab_type": "code",
        "colab": {}
      },
      "source": [
        "data_size = 1.0 # use smaller sizes at the beginning to iterate quickly and catch errors\n",
        "url = \"https://raw.githubusercontent.com/madewithml/lessons/master/data/news.csv\""
      ],
      "execution_count": 0,
      "outputs": []
    },
    {
      "cell_type": "code",
      "metadata": {
        "id": "PAwO9PTcUqYA",
        "colab_type": "code",
        "colab": {
          "base_uri": "https://localhost:8080/",
          "height": 204
        },
        "outputId": "0345afc7-0df5-40f5-e1c7-401af8a07322"
      },
      "source": [
        "# Load data\n",
        "df = pd.read_csv(url)\n",
        "df = df.sample(frac=1).reset_index(drop=True) # shuffle\n",
        "df.head()"
      ],
      "execution_count": 5,
      "outputs": [
        {
          "output_type": "execute_result",
          "data": {
            "text/html": [
              "<div>\n",
              "<style scoped>\n",
              "    .dataframe tbody tr th:only-of-type {\n",
              "        vertical-align: middle;\n",
              "    }\n",
              "\n",
              "    .dataframe tbody tr th {\n",
              "        vertical-align: top;\n",
              "    }\n",
              "\n",
              "    .dataframe thead th {\n",
              "        text-align: right;\n",
              "    }\n",
              "</style>\n",
              "<table border=\"1\" class=\"dataframe\">\n",
              "  <thead>\n",
              "    <tr style=\"text-align: right;\">\n",
              "      <th></th>\n",
              "      <th>title</th>\n",
              "      <th>category</th>\n",
              "    </tr>\n",
              "  </thead>\n",
              "  <tbody>\n",
              "    <tr>\n",
              "      <th>0</th>\n",
              "      <td>Sharon Accepts Plan to Reduce Gaza Army Operat...</td>\n",
              "      <td>World</td>\n",
              "    </tr>\n",
              "    <tr>\n",
              "      <th>1</th>\n",
              "      <td>Internet Key Battleground in Wildlife Crime Fight</td>\n",
              "      <td>Sci/Tech</td>\n",
              "    </tr>\n",
              "    <tr>\n",
              "      <th>2</th>\n",
              "      <td>July Durable Good Orders Rise 1.7 Percent</td>\n",
              "      <td>Business</td>\n",
              "    </tr>\n",
              "    <tr>\n",
              "      <th>3</th>\n",
              "      <td>Growing Signs of a Slowing on Wall Street</td>\n",
              "      <td>Business</td>\n",
              "    </tr>\n",
              "    <tr>\n",
              "      <th>4</th>\n",
              "      <td>The New Faces of Reality TV</td>\n",
              "      <td>World</td>\n",
              "    </tr>\n",
              "  </tbody>\n",
              "</table>\n",
              "</div>"
            ],
            "text/plain": [
              "                                               title  category\n",
              "0  Sharon Accepts Plan to Reduce Gaza Army Operat...     World\n",
              "1  Internet Key Battleground in Wildlife Crime Fight  Sci/Tech\n",
              "2          July Durable Good Orders Rise 1.7 Percent  Business\n",
              "3          Growing Signs of a Slowing on Wall Street  Business\n",
              "4                        The New Faces of Reality TV     World"
            ]
          },
          "metadata": {
            "tags": []
          },
          "execution_count": 5
        }
      ]
    },
    {
      "cell_type": "code",
      "metadata": {
        "id": "zlILPMyaU4KX",
        "colab_type": "code",
        "colab": {
          "base_uri": "https://localhost:8080/",
          "height": 34
        },
        "outputId": "e2ec8e2f-1773-4048-cdd3-aa417b553580"
      },
      "source": [
        "# Reduce dataset\n",
        "# You should always overfit your models on a small\n",
        "# dataset first so you can catch errors quickly.\n",
        "df = df[:int(len(df)*data_size)]\n",
        "len(df)"
      ],
      "execution_count": 6,
      "outputs": [
        {
          "output_type": "execute_result",
          "data": {
            "text/plain": [
              "120000"
            ]
          },
          "metadata": {
            "tags": []
          },
          "execution_count": 6
        }
      ]
    },
    {
      "cell_type": "code",
      "metadata": {
        "id": "Fj7p-CO5VQan",
        "colab_type": "code",
        "colab": {
          "base_uri": "https://localhost:8080/",
          "height": 170
        },
        "outputId": "382f7b86-9b96-4292-98ed-ba876c3a61a0"
      },
      "source": [
        "# Inputs and outputs\n",
        "X = df['title'].values\n",
        "y = df['category'].values\n",
        "X, y"
      ],
      "execution_count": 7,
      "outputs": [
        {
          "output_type": "execute_result",
          "data": {
            "text/plain": [
              "(array(['Sharon Accepts Plan to Reduce Gaza Army Operation, Haaretz Says',\n",
              "        'Internet Key Battleground in Wildlife Crime Fight',\n",
              "        'July Durable Good Orders Rise 1.7 Percent', ...,\n",
              "        'Musharraf says U.S. must address root of terrorism (Reuters)',\n",
              "        'Nuclear materials  #39;vanish #39; in Iraq',\n",
              "        'In Brief: Bowstreet unveils pre-packaged portal offerings'],\n",
              "       dtype=object),\n",
              " array(['World', 'Sci/Tech', 'Business', ..., 'World', 'World', 'Sci/Tech'],\n",
              "       dtype=object))"
            ]
          },
          "metadata": {
            "tags": []
          },
          "execution_count": 7
        }
      ]
    },
    {
      "cell_type": "markdown",
      "metadata": {
        "id": "9EPlqi8IVkfY",
        "colab_type": "text"
      },
      "source": [
        "## Split data"
      ]
    },
    {
      "cell_type": "code",
      "metadata": {
        "id": "pv2E9jtoVoAh",
        "colab_type": "code",
        "colab": {}
      },
      "source": [
        "from sklearn.model_selection import train_test_split"
      ],
      "execution_count": 0,
      "outputs": []
    },
    {
      "cell_type": "code",
      "metadata": {
        "id": "8KyixkulVtZx",
        "colab_type": "code",
        "colab": {}
      },
      "source": [
        "val_size = 0.15\n",
        "test_size = 0.15\n",
        "shuffle = True"
      ],
      "execution_count": 0,
      "outputs": []
    },
    {
      "cell_type": "code",
      "metadata": {
        "id": "Cbk-mTzdVUbM",
        "colab_type": "code",
        "colab": {
          "base_uri": "https://localhost:8080/",
          "height": 85
        },
        "outputId": "7ec6acca-9492-4624-8003-ec15590702db"
      },
      "source": [
        "# Split data\n",
        "X_train, X_test, y_train, y_test = train_test_split( # creating train and test\n",
        "        X, y, test_size=test_size, stratify=y, shuffle=shuffle)\n",
        "X_train, X_val, y_train, y_val = train_test_split( # creating train and val\n",
        "    X_train, y_train, test_size=val_size, stratify=y_train, shuffle=shuffle)\n",
        "print (\"Data splits:\\n\"\n",
        "        f\"  X_train: {len(X_train)}, y_train: {len(y_train)}\\n\"\n",
        "        f\"  X_val: {len(X_val)}, y_val: {len(y_val)}\\n\"\n",
        "        f\"  X_test: {len(X_test)}, y_test: {len(y_test)}\")"
      ],
      "execution_count": 10,
      "outputs": [
        {
          "output_type": "stream",
          "text": [
            "Data splits:\n",
            "  X_train: 86700, y_train: 86700\n",
            "  X_val: 15300, y_val: 15300\n",
            "  X_test: 18000, y_test: 18000\n"
          ],
          "name": "stdout"
        }
      ]
    },
    {
      "cell_type": "markdown",
      "metadata": {
        "id": "rxRC_FCeYAsf",
        "colab_type": "text"
      },
      "source": [
        "## Tokenization"
      ]
    },
    {
      "cell_type": "code",
      "metadata": {
        "id": "R65NAHNtYJmY",
        "colab_type": "code",
        "colab": {}
      },
      "source": [
        "from sklearn.preprocessing import LabelEncoder\n",
        "from tensorflow.keras.preprocessing.text import Tokenizer"
      ],
      "execution_count": 0,
      "outputs": []
    },
    {
      "cell_type": "code",
      "metadata": {
        "id": "CuLfw3oBYMLz",
        "colab_type": "code",
        "colab": {}
      },
      "source": [
        "filters = \"[!\\\"'#$%&()*\\+,-./:;<=>?@\\\\\\[\\]^_`{|}~]\"\n",
        "lower = True\n",
        "char_level = False"
      ],
      "execution_count": 0,
      "outputs": []
    },
    {
      "cell_type": "code",
      "metadata": {
        "id": "nMWDic8qXSLD",
        "colab_type": "code",
        "colab": {
          "base_uri": "https://localhost:8080/",
          "height": 34
        },
        "outputId": "5e8e2262-f9a7-43bc-fc0b-e28596df6168"
      },
      "source": [
        "# Tokenizer\n",
        "X_tokenizer = Tokenizer(\n",
        "    filters=filters, lower=lower, char_level=char_level, oov_token='<UNK>')\n",
        "X_tokenizer.fit_on_texts(X_train)\n",
        "vocab_size = len(X_tokenizer.word_index) + 1  # +1 for padding token\n",
        "print (f\"vocab_size: {vocab_size}\")"
      ],
      "execution_count": 13,
      "outputs": [
        {
          "output_type": "stream",
          "text": [
            "vocab_size: 29837\n"
          ],
          "name": "stdout"
        }
      ]
    },
    {
      "cell_type": "code",
      "metadata": {
        "id": "sybNxe6JYZQI",
        "colab_type": "code",
        "colab": {
          "base_uri": "https://localhost:8080/",
          "height": 85
        },
        "outputId": "076509dc-ae58-4e20-d696-234de3fff583"
      },
      "source": [
        "# Convert texts to sequences of indices\n",
        "original_text = X_train[0]\n",
        "X_train = np.array(X_tokenizer.texts_to_sequences(X_train))\n",
        "X_val = np.array(X_tokenizer.texts_to_sequences(X_val))\n",
        "X_test = np.array(X_tokenizer.texts_to_sequences(X_test))\n",
        "preprocessed_text = X_tokenizer.sequences_to_texts([X_train[0]])[0]\n",
        "print (\"Text to indices:\\n\"\n",
        "    f\"  (raw) {original_text}\\n\"\n",
        "    f\"  (preprocessed) {preprocessed_text}\\n\"\n",
        "    f\"  (tokenized) {X_train[0]}\")"
      ],
      "execution_count": 14,
      "outputs": [
        {
          "output_type": "stream",
          "text": [
            "Text to indices:\n",
            "  (raw) Fed, Corporate Forecasts to Set Tone\n",
            "  (preprocessed) fed corporate forecasts to set tone\n",
            "  (tokenized) [380, 1277, 1432, 2, 74, 4804]\n"
          ],
          "name": "stdout"
        }
      ]
    },
    {
      "cell_type": "markdown",
      "metadata": {
        "id": "8O2IALdi9r1l",
        "colab_type": "text"
      },
      "source": [
        "## Label encoding"
      ]
    },
    {
      "cell_type": "code",
      "metadata": {
        "id": "pFzvaSaKY1Dl",
        "colab_type": "code",
        "colab": {
          "base_uri": "https://localhost:8080/",
          "height": 34
        },
        "outputId": "9c63909a-7757-47d0-a57e-a6127a9571be"
      },
      "source": [
        "# Label encoder\n",
        "y_tokenizer = LabelEncoder()\n",
        "y_tokenizer = y_tokenizer.fit(y_train)\n",
        "classes = y_tokenizer.classes_\n",
        "print (f\"classes: {classes}\")"
      ],
      "execution_count": 15,
      "outputs": [
        {
          "output_type": "stream",
          "text": [
            "classes: ['Business' 'Sci/Tech' 'Sports' 'World']\n"
          ],
          "name": "stdout"
        }
      ]
    },
    {
      "cell_type": "code",
      "metadata": {
        "id": "CcVNGK7zZFbw",
        "colab_type": "code",
        "colab": {
          "base_uri": "https://localhost:8080/",
          "height": 51
        },
        "outputId": "704d4382-7e44-4764-bac1-e73cbb69556d"
      },
      "source": [
        "# Convert labels to tokens\n",
        "class_ = y_train[0]\n",
        "y_train = y_tokenizer.transform(y_train)\n",
        "y_val = y_tokenizer.transform(y_val)\n",
        "y_test = y_tokenizer.transform(y_test)\n",
        "print (\"Labels to indices:\\n\"\n",
        "    f\"  {class_} → {y_train[0]}\")"
      ],
      "execution_count": 16,
      "outputs": [
        {
          "output_type": "stream",
          "text": [
            "Labels to indices:\n",
            "  Business → 0\n"
          ],
          "name": "stdout"
        }
      ]
    },
    {
      "cell_type": "code",
      "metadata": {
        "id": "5EF7l3GAZQ9X",
        "colab_type": "code",
        "colab": {
          "base_uri": "https://localhost:8080/",
          "height": 85
        },
        "outputId": "d8627db9-e4b0-42de-965b-b8606d7006f2"
      },
      "source": [
        "# Class weights\n",
        "counts = np.bincount(y_train)\n",
        "class_weights = {i: 1.0/count for i, count in enumerate(counts)}\n",
        "print (\"class counts:\\n\"\n",
        "    f\"  {counts}\\n\"\n",
        "    \"class weights:\\n\"\n",
        "    f\"  {class_weights}\")"
      ],
      "execution_count": 17,
      "outputs": [
        {
          "output_type": "stream",
          "text": [
            "class counts:\n",
            "  [21675 21675 21675 21675]\n",
            "class weights:\n",
            "  {0: 4.61361014994233e-05, 1: 4.61361014994233e-05, 2: 4.61361014994233e-05, 3: 4.61361014994233e-05}\n"
          ],
          "name": "stdout"
        }
      ]
    },
    {
      "cell_type": "markdown",
      "metadata": {
        "id": "7uAsfy7xbYor",
        "colab_type": "text"
      },
      "source": [
        "## Generators"
      ]
    },
    {
      "cell_type": "code",
      "metadata": {
        "id": "7DlSuZiSbnmW",
        "colab_type": "code",
        "colab": {}
      },
      "source": [
        "import math\n",
        "from tensorflow.keras.preprocessing.sequence import pad_sequences\n",
        "from tensorflow.keras.utils import Sequence"
      ],
      "execution_count": 0,
      "outputs": []
    },
    {
      "cell_type": "code",
      "metadata": {
        "id": "0FzIVfVfbwAQ",
        "colab_type": "code",
        "colab": {}
      },
      "source": [
        "batch_size = 64\n",
        "filter_sizes = [2, 3, 4]"
      ],
      "execution_count": 0,
      "outputs": []
    },
    {
      "cell_type": "code",
      "metadata": {
        "id": "Xn9X26uZbWHo",
        "colab_type": "code",
        "colab": {}
      },
      "source": [
        "class DataGenerator(Sequence):\n",
        "    \"\"\"Custom data loader.\"\"\"\n",
        "\n",
        "    def __init__(self, X, y, batch_size, max_filter_size, shuffle=False):\n",
        "        self.X = X\n",
        "        self.y = y\n",
        "        self.batch_size = batch_size\n",
        "        self.max_filter_size = max_filter_size\n",
        "        self.shuffle = shuffle\n",
        "        self.on_epoch_end()\n",
        "\n",
        "    def __len__(self):\n",
        "        \"\"\"# of batches.\"\"\"\n",
        "        return math.ceil(len(self.X) / self.batch_size)\n",
        "\n",
        "    def __str__(self):\n",
        "        return (f\"<DataGenerator(\"\n",
        "                f\"batch_size={self.batch_size}, \"\n",
        "                f\"batches={len(self)}, \"\n",
        "                f\"shuffle={self.shuffle})>\")\n",
        "\n",
        "    def __getitem__(self, index):\n",
        "        \"\"\"Generate a batch.\"\"\"\n",
        "        # Gather indices for this batch\n",
        "        batch_indices = self.epoch_indices[\n",
        "            index * self.batch_size:(index+1)*self.batch_size]\n",
        "\n",
        "        # Generate batch data\n",
        "        X = self.X[batch_indices]\n",
        "        y = self.y[batch_indices]\n",
        "\n",
        "        # Pad batch\n",
        "        max_seq_len = max(self.max_filter_size, max([len(x) for x in X]))\n",
        "        X = pad_sequences(X, padding=\"post\", maxlen=max_seq_len)\n",
        "\n",
        "        return X, y\n",
        "\n",
        "    def on_epoch_end(self):\n",
        "        \"\"\"Create indices after each epoch.\"\"\"\n",
        "        self.epoch_indices = np.arange(len(self.X))\n",
        "        if self.shuffle == True:\n",
        "            np.random.shuffle(self.epoch_indices)"
      ],
      "execution_count": 0,
      "outputs": []
    },
    {
      "cell_type": "code",
      "metadata": {
        "id": "YlDxqezNbj5W",
        "colab_type": "code",
        "colab": {
          "base_uri": "https://localhost:8080/",
          "height": 153
        },
        "outputId": "6620bcfe-50df-4320-e9de-5aa0471a0c66"
      },
      "source": [
        "# Dataset generators\n",
        "training_generator = DataGenerator(\n",
        "    X=X_train, y=y_train, batch_size=batch_size,\n",
        "    max_filter_size=max(filter_sizes))\n",
        "validation_generator = DataGenerator(\n",
        "    X=X_val, y=y_val, batch_size=batch_size,\n",
        "    max_filter_size=max(filter_sizes))\n",
        "testing_generator = DataGenerator(\n",
        "    X=X_test, y=y_test, batch_size=batch_size,\n",
        "    max_filter_size=max(filter_sizes))\n",
        "batch_X, batch_y = training_generator[0]  # sample\n",
        "print (\"Dataset generators:\\n\"\n",
        "    f\"  (training_generator) {training_generator}\\n\"\n",
        "    f\"  (validation_generator) {validation_generator}\\n\"\n",
        "    f\"  (testing_generator) {testing_generator}\\n\"\n",
        "    \"Sample batch:\\n\"\n",
        "    f\"  X: {batch_X.shape}\\n\"\n",
        "    f\"  y: {batch_y.shape}\\n\")"
      ],
      "execution_count": 21,
      "outputs": [
        {
          "output_type": "stream",
          "text": [
            "Dataset generators:\n",
            "  (training_generator) <DataGenerator(batch_size=64, batches=1355, shuffle=False)>\n",
            "  (validation_generator) <DataGenerator(batch_size=64, batches=240, shuffle=False)>\n",
            "  (testing_generator) <DataGenerator(batch_size=64, batches=282, shuffle=False)>\n",
            "Sample batch:\n",
            "  X: (64, 13)\n",
            "  y: (64,)\n",
            "\n"
          ],
          "name": "stdout"
        }
      ]
    },
    {
      "cell_type": "markdown",
      "metadata": {
        "id": "pxDlodx1cXUS",
        "colab_type": "text"
      },
      "source": [
        "## Model"
      ]
    },
    {
      "cell_type": "code",
      "metadata": {
        "id": "JOnykJwTcbMs",
        "colab_type": "code",
        "colab": {}
      },
      "source": [
        "from tensorflow.keras.layers import Concatenate\n",
        "from tensorflow.keras.layers import Conv1D\n",
        "from tensorflow.keras.layers import Dense\n",
        "from tensorflow.keras.layers import Dropout\n",
        "from tensorflow.keras.layers import Embedding\n",
        "from tensorflow.keras.layers import GlobalMaxPool1D\n",
        "from tensorflow.keras.layers import Input\n",
        "from tensorflow.keras.models import Model\n",
        "from tensorflow.keras.utils import plot_model"
      ],
      "execution_count": 0,
      "outputs": []
    },
    {
      "cell_type": "code",
      "metadata": {
        "id": "4xw7p6GorJmF",
        "colab_type": "code",
        "colab": {}
      },
      "source": [
        "embedding_dim = 100\n",
        "num_filters = 50\n",
        "hidden_dim = 128\n",
        "dropout_p = 0.1\n",
        "freeze_embeddings = False"
      ],
      "execution_count": 0,
      "outputs": []
    },
    {
      "cell_type": "code",
      "metadata": {
        "id": "HTbdP6rQrFQ_",
        "colab_type": "code",
        "colab": {}
      },
      "source": [
        "class TextCNN(Model):\n",
        "    def __init__(self, vocab_size, embedding_dim, filter_sizes, num_filters,\n",
        "                 hidden_dim, dropout_p, num_classes, freeze_embeddings=False):\n",
        "        super(TextCNN, self).__init__(name=\"cnn\")\n",
        "\n",
        "        # Embeddings\n",
        "        self.embedding = Embedding(\n",
        "            input_dim=vocab_size, output_dim=embedding_dim,\n",
        "            trainable=not freeze_embeddings)\n",
        "\n",
        "        # Conv & pool\n",
        "        self.convs = []\n",
        "        self.pools = []\n",
        "        for filter_size in filter_sizes:\n",
        "            conv = Conv1D(\n",
        "                filters=num_filters, kernel_size=filter_size,\n",
        "                padding='same', activation='relu')\n",
        "            pool = GlobalMaxPool1D(data_format='channels_last')\n",
        "            self.convs.append(conv)\n",
        "            self.pools.append(pool)\n",
        "\n",
        "        # Concatenation\n",
        "        self.concat = Concatenate(axis=1)\n",
        "\n",
        "        # FC layers\n",
        "        self.fc1 = Dense(units=hidden_dim, activation='relu')\n",
        "        self.dropout = Dropout(rate=dropout_p)\n",
        "        self.fc2 = Dense(units=num_classes, activation='softmax')\n",
        "\n",
        "    def call(self, x_in, training=False):\n",
        "        \"\"\"Forward pass.\"\"\"\n",
        "\n",
        "        # Embed\n",
        "        x_emb = self.embedding(x_in)\n",
        "\n",
        "        # Conv & pool\n",
        "        convs = []\n",
        "        for i in range(len(self.convs)):\n",
        "            z = self.convs[i](x_emb)\n",
        "            z = self.pools[i](z)\n",
        "            convs.append(z)\n",
        "\n",
        "        # Concatenate\n",
        "        z_cat = self.concat(convs)\n",
        "\n",
        "        # FC\n",
        "        z = self.fc1(z_cat)\n",
        "        if training:\n",
        "            z = self.dropout(z, training=training)\n",
        "        logits = self.fc2(z)\n",
        "\n",
        "        return logits\n",
        "\n",
        "    def summary(self, input_shape):\n",
        "        x_in = Input(shape=input_shape, name='X')\n",
        "        summary = Model(inputs=x_in, outputs=self.call(x_in), name=self.name)\n",
        "        return summary"
      ],
      "execution_count": 0,
      "outputs": []
    },
    {
      "cell_type": "code",
      "metadata": {
        "id": "3444wAFWb4qG",
        "colab_type": "code",
        "colab": {
          "base_uri": "https://localhost:8080/",
          "height": 34
        },
        "outputId": "2608ec85-f837-4184-bc03-04cd77d956d7"
      },
      "source": [
        "# Initialize model\n",
        "model = TextCNN(\n",
        "    vocab_size=vocab_size, embedding_dim=embedding_dim,\n",
        "    filter_sizes=filter_sizes, num_filters=num_filters,\n",
        "    hidden_dim=hidden_dim, dropout_p=dropout_p,\n",
        "    num_classes=len(y_tokenizer.classes_),\n",
        "    freeze_embeddings=freeze_embeddings)\n",
        "model.summary(input_shape=(10,))  # build it"
      ],
      "execution_count": 25,
      "outputs": [
        {
          "output_type": "execute_result",
          "data": {
            "text/plain": [
              "<tensorflow.python.keras.engine.training.Model at 0x7fb44014e2e8>"
            ]
          },
          "metadata": {
            "tags": []
          },
          "execution_count": 25
        }
      ]
    },
    {
      "cell_type": "markdown",
      "metadata": {
        "id": "HlL_S7S0rnSg",
        "colab_type": "text"
      },
      "source": [
        "## Compile"
      ]
    },
    {
      "cell_type": "code",
      "metadata": {
        "id": "xEq8flzDr9q0",
        "colab_type": "code",
        "colab": {}
      },
      "source": [
        "from tensorflow.keras.callbacks import Callback\n",
        "from tensorflow.keras.callbacks import EarlyStopping\n",
        "from tensorflow.keras.callbacks import ModelCheckpoint\n",
        "from tensorflow.keras.callbacks import ReduceLROnPlateau\n",
        "from tensorflow.keras.losses import SparseCategoricalCrossentropy\n",
        "from tensorflow.keras.metrics import SparseCategoricalAccuracy\n",
        "from tensorflow.keras.optimizers import Adam"
      ],
      "execution_count": 0,
      "outputs": []
    },
    {
      "cell_type": "code",
      "metadata": {
        "id": "NHmA_4p-r0qx",
        "colab_type": "code",
        "colab": {}
      },
      "source": [
        "learning_rate = 1e-4\n",
        "patience = 3 # early stopping"
      ],
      "execution_count": 0,
      "outputs": []
    },
    {
      "cell_type": "code",
      "metadata": {
        "id": "vOON37H_roEi",
        "colab_type": "code",
        "colab": {}
      },
      "source": [
        "# Callbacks\n",
        "callbacks = [EarlyStopping(monitor='val_loss', patience=patience, verbose=1, mode='min'),\n",
        "             ReduceLROnPlateau(patience=1, factor=0.1, verbose=0)]\n",
        "\n",
        "# Compile\n",
        "model.compile(optimizer=Adam(lr=learning_rate),\n",
        "              loss=SparseCategoricalCrossentropy(),\n",
        "              metrics=[SparseCategoricalAccuracy()])"
      ],
      "execution_count": 0,
      "outputs": []
    },
    {
      "cell_type": "markdown",
      "metadata": {
        "id": "KxIQfHZcsEnF",
        "colab_type": "text"
      },
      "source": [
        "## Training"
      ]
    },
    {
      "cell_type": "code",
      "metadata": {
        "id": "5MPfpTBEsHoi",
        "colab_type": "code",
        "colab": {}
      },
      "source": [
        "num_epochs = 10"
      ],
      "execution_count": 0,
      "outputs": []
    },
    {
      "cell_type": "code",
      "metadata": {
        "id": "M4bgYj2sr__Z",
        "colab_type": "code",
        "colab": {
          "base_uri": "https://localhost:8080/",
          "height": 357
        },
        "outputId": "dd1e33d9-afdd-49d4-a853-dc016de9b204"
      },
      "source": [
        "# Training\n",
        "training_history = model.fit(\n",
        "    x=training_generator, epochs=num_epochs, validation_data=validation_generator,\n",
        "    callbacks=callbacks, shuffle=False, class_weight=class_weights, verbose=1)"
      ],
      "execution_count": 30,
      "outputs": [
        {
          "output_type": "stream",
          "text": [
            "Epoch 1/10\n",
            "1355/1355 [==============================] - 40s 29ms/step - loss: 6.3732e-05 - sparse_categorical_accuracy: 0.3023 - val_loss: 1.3716 - val_sparse_categorical_accuracy: 0.3920 - lr: 1.0000e-04\n",
            "Epoch 2/10\n",
            "1355/1355 [==============================] - 39s 29ms/step - loss: 6.1740e-05 - sparse_categorical_accuracy: 0.4349 - val_loss: 1.2792 - val_sparse_categorical_accuracy: 0.5091 - lr: 1.0000e-04\n",
            "Epoch 3/10\n",
            "1355/1355 [==============================] - 38s 28ms/step - loss: 5.0863e-05 - sparse_categorical_accuracy: 0.5984 - val_loss: 0.8924 - val_sparse_categorical_accuracy: 0.6972 - lr: 1.0000e-04\n",
            "Epoch 4/10\n",
            "1355/1355 [==============================] - 38s 28ms/step - loss: 3.3634e-05 - sparse_categorical_accuracy: 0.7478 - val_loss: 0.6246 - val_sparse_categorical_accuracy: 0.7835 - lr: 1.0000e-04\n",
            "Epoch 5/10\n",
            "1355/1355 [==============================] - 37s 27ms/step - loss: 2.4966e-05 - sparse_categorical_accuracy: 0.8123 - val_loss: 0.5203 - val_sparse_categorical_accuracy: 0.8215 - lr: 1.0000e-04\n",
            "Epoch 6/10\n",
            "1355/1355 [==============================] - 37s 27ms/step - loss: 2.0463e-05 - sparse_categorical_accuracy: 0.8479 - val_loss: 0.4689 - val_sparse_categorical_accuracy: 0.8407 - lr: 1.0000e-04\n",
            "Epoch 7/10\n",
            "1355/1355 [==============================] - 37s 27ms/step - loss: 1.7572e-05 - sparse_categorical_accuracy: 0.8711 - val_loss: 0.4403 - val_sparse_categorical_accuracy: 0.8499 - lr: 1.0000e-04\n",
            "Epoch 8/10\n",
            "1355/1355 [==============================] - 37s 27ms/step - loss: 1.5417e-05 - sparse_categorical_accuracy: 0.8894 - val_loss: 0.4238 - val_sparse_categorical_accuracy: 0.8556 - lr: 1.0000e-04\n",
            "Epoch 9/10\n",
            "1355/1355 [==============================] - 37s 27ms/step - loss: 1.3705e-05 - sparse_categorical_accuracy: 0.9036 - val_loss: 0.4150 - val_sparse_categorical_accuracy: 0.8590 - lr: 1.0000e-04\n",
            "Epoch 10/10\n",
            "1355/1355 [==============================] - 38s 28ms/step - loss: 1.2265e-05 - sparse_categorical_accuracy: 0.9140 - val_loss: 0.4104 - val_sparse_categorical_accuracy: 0.8616 - lr: 1.0000e-04\n"
          ],
          "name": "stdout"
        }
      ]
    },
    {
      "cell_type": "markdown",
      "metadata": {
        "id": "xlopD1dcsMNG",
        "colab_type": "text"
      },
      "source": [
        "## Evaluation\n"
      ]
    },
    {
      "cell_type": "code",
      "metadata": {
        "id": "QawTL8x6sYCm",
        "colab_type": "code",
        "colab": {}
      },
      "source": [
        "import itertools\n",
        "import json\n",
        "import matplotlib.pyplot as plt\n",
        "from sklearn.metrics import confusion_matrix\n",
        "from sklearn.metrics import precision_recall_fscore_support"
      ],
      "execution_count": 0,
      "outputs": []
    },
    {
      "cell_type": "code",
      "metadata": {
        "id": "sulWQZzVsJzn",
        "colab_type": "code",
        "colab": {
          "base_uri": "https://localhost:8080/",
          "height": 85
        },
        "outputId": "296dfa2c-36d0-42d1-dfc0-d582408a7896"
      },
      "source": [
        "# Evaluation\n",
        "test_history = model.evaluate(x=testing_generator, verbose=1)\n",
        "y_pred = model.predict(x=testing_generator, verbose=1)\n",
        "y_pred = np.argmax(y_pred, axis=1)\n",
        "test_loss, test_acc = test_history[0:2]\n",
        "print (\"Test performance:\\n\"\n",
        "    f\"  test_loss: {test_loss:.2f}, test_acc: {test_acc:.1f}\")"
      ],
      "execution_count": 32,
      "outputs": [
        {
          "output_type": "stream",
          "text": [
            "282/282 [==============================] - 1s 2ms/step - loss: 0.4181 - sparse_categorical_accuracy: 0.8580\n",
            "282/282 [==============================] - 1s 2ms/step\n",
            "Test performance:\n",
            "  test_loss: 0.42, test_acc: 0.9\n"
          ],
          "name": "stdout"
        }
      ]
    },
    {
      "cell_type": "code",
      "metadata": {
        "id": "R5JC_3h9tXHn",
        "colab_type": "code",
        "colab": {
          "base_uri": "https://localhost:8080/",
          "height": 595
        },
        "outputId": "6b44eb3f-f81a-476a-c468-6a4ebafcfd82"
      },
      "source": [
        "# Performance\n",
        "performance = {'overall': {}, 'class': {}}\n",
        "metrics = precision_recall_fscore_support(y_test, y_pred)\n",
        "\n",
        "# Overall performance\n",
        "performance['overall']['precision'] = np.mean(metrics[0])\n",
        "performance['overall']['recall'] = np.mean(metrics[1])\n",
        "performance['overall']['f1'] = np.mean(metrics[2])\n",
        "performance['overall']['num_samples'] = np.float64(np.sum(metrics[3]))\n",
        "\n",
        "# Per-class performance\n",
        "for i in range(len(classes)):\n",
        "    performance['class'][classes[i]] = {\n",
        "        \"precision\": metrics[0][i],\n",
        "        \"recall\": metrics[1][i],\n",
        "        \"f1\": metrics[2][i],\n",
        "        \"num_samples\": np.float64(metrics[3][i])\n",
        "    }\n",
        "\n",
        "print (json.dumps(performance, indent=2))"
      ],
      "execution_count": 33,
      "outputs": [
        {
          "output_type": "stream",
          "text": [
            "{\n",
            "  \"overall\": {\n",
            "    \"precision\": 0.8576706274385144,\n",
            "    \"recall\": 0.858,\n",
            "    \"f1\": 0.8574735908454552,\n",
            "    \"num_samples\": 18000.0\n",
            "  },\n",
            "  \"class\": {\n",
            "    \"Business\": {\n",
            "      \"precision\": 0.8378684807256236,\n",
            "      \"recall\": 0.8211111111111111,\n",
            "      \"f1\": 0.8294051627384961,\n",
            "      \"num_samples\": 4500.0\n",
            "    },\n",
            "    \"Sci/Tech\": {\n",
            "      \"precision\": 0.8472985347985348,\n",
            "      \"recall\": 0.8224444444444444,\n",
            "      \"f1\": 0.8346865133062696,\n",
            "      \"num_samples\": 4500.0\n",
            "    },\n",
            "    \"Sports\": {\n",
            "      \"precision\": 0.871395975938602,\n",
            "      \"recall\": 0.9335555555555556,\n",
            "      \"f1\": 0.9014054286020814,\n",
            "      \"num_samples\": 4500.0\n",
            "    },\n",
            "    \"World\": {\n",
            "      \"precision\": 0.8741195182912974,\n",
            "      \"recall\": 0.8548888888888889,\n",
            "      \"f1\": 0.8643972587349735,\n",
            "      \"num_samples\": 4500.0\n",
            "    }\n",
            "  }\n",
            "}\n"
          ],
          "name": "stdout"
        }
      ]
    },
    {
      "cell_type": "code",
      "metadata": {
        "id": "fA9jDQPTsRW9",
        "colab_type": "code",
        "colab": {
          "base_uri": "https://localhost:8080/",
          "height": 306
        },
        "outputId": "3142989c-8e22-467f-8e7e-8cac7936d50b"
      },
      "source": [
        "# Confusion matrix\n",
        "cm = confusion_matrix(y_test, y_pred)\n",
        "cm_norm = cm.astype('float') / cm.sum(axis=1)[:, np.newaxis]\n",
        "\n",
        "#  Figure\n",
        "fig = plt.figure()\n",
        "ax = fig.add_subplot(111)\n",
        "cax = ax.matshow(cm, cmap=plt.cm.Blues)\n",
        "fig.colorbar(cax)\n",
        "\n",
        "# Axis\n",
        "plt.title(\"Confusion matrix\")\n",
        "plt.ylabel(\"True label\")\n",
        "plt.xlabel(\"Predicted label\")\n",
        "ax.set_xticklabels([''] + classes)\n",
        "ax.set_yticklabels([''] + classes)\n",
        "ax.xaxis.set_label_position('bottom')\n",
        "ax.xaxis.tick_bottom()\n",
        "\n",
        "# Values\n",
        "thresh = cm.max() / 2.\n",
        "for i, j in itertools.product(range(cm.shape[0]), range(cm.shape[1])):\n",
        "    plt.text(j, i, f\"{cm[i, j]:d} ({cm_norm[i, j]*100:.1f}%)\",\n",
        "                horizontalalignment=\"center\",\n",
        "                color=\"white\" if cm[i, j] > thresh else \"black\")"
      ],
      "execution_count": 34,
      "outputs": [
        {
          "output_type": "display_data",
          "data": {
            "image/png": "[encoded data removed]",
            "text/plain": [
              "<Figure size 432x288 with 2 Axes>"
            ]
          },
          "metadata": {
            "tags": [],
            "needs_background": "light"
          }
        }
      ]
    },
    {
      "cell_type": "markdown",
      "metadata": {
        "id": "YxdzscVPtAMx",
        "colab_type": "text"
      },
      "source": [
        "## Prediction"
      ]
    },
    {
      "cell_type": "code",
      "metadata": {
        "id": "x8KYyi0Jwx9m",
        "colab_type": "code",
        "colab": {}
      },
      "source": [
        "from collections import Counter"
      ],
      "execution_count": 0,
      "outputs": []
    },
    {
      "cell_type": "code",
      "metadata": {
        "id": "SucL7zwouGxY",
        "colab_type": "code",
        "colab": {}
      },
      "source": [
        "class ConvOutputsModel(Model):\n",
        "    def __init__(self, vocab_size, embedding_dim,\n",
        "                 filter_sizes, num_filters):\n",
        "        super(ConvOutputsModel, self).__init__()\n",
        "\n",
        "        # Embeddings\n",
        "        self.embedding = Embedding(input_dim=vocab_size,\n",
        "                                   output_dim=embedding_dim)\n",
        "\n",
        "        # Conv & pool\n",
        "        self.convs = []\n",
        "        for filter_size in filter_sizes:\n",
        "            conv = Conv1D(filters=num_filters, kernel_size=filter_size,\n",
        "                          padding='same', activation='relu')\n",
        "            self.convs.append(conv)\n",
        "\n",
        "    def call(self, x_in, training=False):\n",
        "        \"\"\"Forward pass.\"\"\"\n",
        "\n",
        "        # Embed\n",
        "        x_emb = self.embedding(x_in)\n",
        "\n",
        "        # Conv\n",
        "        convs = []\n",
        "        for i in range(len(self.convs)):\n",
        "            z = self.convs[i](x_emb)\n",
        "            convs.append(z)\n",
        "\n",
        "        return convs\n",
        "\n",
        "    def summary(self, input_shape):\n",
        "        x_in = Input(shape=input_shape, name='X')\n",
        "        summary = Model(inputs=x_in, outputs=self.call(x_in), name=self.name)\n",
        "        return summary"
      ],
      "execution_count": 0,
      "outputs": []
    },
    {
      "cell_type": "code",
      "metadata": {
        "id": "voQxTlgfs_ya",
        "colab_type": "code",
        "colab": {
          "base_uri": "https://localhost:8080/",
          "height": 34
        },
        "outputId": "0de347df-7357-45dd-b3c5-2d4f3962940f"
      },
      "source": [
        "text = input(\"Enter text to classify: \")"
      ],
      "execution_count": 37,
      "outputs": [
        {
          "output_type": "stream",
          "text": [
            "Enter text to classify: The Canadian government officials proposed the new federal law.\n"
          ],
          "name": "stdout"
        }
      ]
    },
    {
      "cell_type": "code",
      "metadata": {
        "id": "fF2nUaUTtzAp",
        "colab_type": "code",
        "colab": {}
      },
      "source": [
        "# Create prediction dataset generator\n",
        "X = np.array(X_tokenizer.texts_to_sequences([text]))\n",
        "preprocessed_texts = X_tokenizer.sequences_to_texts(X)\n",
        "y_filler = np.array([0]*len(X))\n",
        "generator = DataGenerator(\n",
        "    X=X, y=y_filler, batch_size=batch_size,\n",
        "    max_filter_size=max(filter_sizes))"
      ],
      "execution_count": 0,
      "outputs": []
    },
    {
      "cell_type": "code",
      "metadata": {
        "id": "57F1zvJquR3h",
        "colab_type": "code",
        "colab": {}
      },
      "source": [
        "# Conv outputs model\n",
        "conv_outputs_model = ConvOutputsModel(\n",
        "    vocab_size=vocab_size, embedding_dim=embedding_dim, \n",
        "    filter_sizes=filter_sizes, num_filters=num_filters)"
      ],
      "execution_count": 0,
      "outputs": []
    },
    {
      "cell_type": "code",
      "metadata": {
        "id": "TUsq9crxt-2O",
        "colab_type": "code",
        "colab": {
          "base_uri": "https://localhost:8080/",
          "height": 51
        },
        "outputId": "e0b2e402-71ea-4746-efff-23930279b2bb"
      },
      "source": [
        "# Predict\n",
        "results = []\n",
        "y_prob = model.predict(x=generator, verbose=1)\n",
        "conv_outputs = conv_outputs_model.predict(x=generator, verbose=1)"
      ],
      "execution_count": 40,
      "outputs": [
        {
          "output_type": "stream",
          "text": [
            "1/1 [==============================] - 0s 1ms/step\n",
            "1/1 [==============================] - 0s 845us/step\n"
          ],
          "name": "stdout"
        }
      ]
    },
    {
      "cell_type": "code",
      "metadata": {
        "id": "AiRtSKLguL7W",
        "colab_type": "code",
        "colab": {}
      },
      "source": [
        "# Probability distribution\n",
        "prob_dist = {}\n",
        "for i, class_ in enumerate(classes):\n",
        "    prob_dist[class_] = np.float64(y_prob[0][i])\n",
        "prob_dist = {k: v for k, v in sorted(\n",
        "    prob_dist.items(), key=lambda item: item[1], reverse=True)}"
      ],
      "execution_count": 0,
      "outputs": []
    },
    {
      "cell_type": "code",
      "metadata": {
        "id": "SIrPWE5Fu98N",
        "colab_type": "code",
        "colab": {}
      },
      "source": [
        "# Process conv outputs for each unique filter size\n",
        "n_grams = {}\n",
        "tokens = preprocessed_texts[0].split(' ')\n",
        "for i, filter_size in enumerate(filter_sizes):\n",
        "\n",
        "    # Identify most important n-gram for each filter's output\n",
        "    popular_indices = Counter(\n",
        "        np.argmax(conv_outputs[i][0], axis=0))\n",
        "\n",
        "    # Get corresponding text\n",
        "    start = popular_indices.most_common(2)[-1][0]\n",
        "    end = min(len(tokens), start+filter_size)\n",
        "    n_gram = \" \".join([token for token in tokens[start:end]])\n",
        "    n_grams[filter_size] = {\n",
        "        'n_gram': n_gram,\n",
        "        'start': np.float64(start),\n",
        "        'end': np.float64(end)\n",
        "        }"
      ],
      "execution_count": 0,
      "outputs": []
    },
    {
      "cell_type": "code",
      "metadata": {
        "id": "p34wqnehu9-7",
        "colab_type": "code",
        "colab": {
          "base_uri": "https://localhost:8080/",
          "height": 476
        },
        "outputId": "d3bade75-7bc9-4180-8d0b-5221302b71d7"
      },
      "source": [
        "print ('raw_input:', text)\n",
        "print ('preprocessed_input:', preprocessed_texts[0])\n",
        "print ('probabilities:\\n', json.dumps(prob_dist, indent=2))\n",
        "print ('top_n_grams:\\n', json.dumps(n_grams, indent=2))"
      ],
      "execution_count": 43,
      "outputs": [
        {
          "output_type": "stream",
          "text": [
            "raw_input: The Canadian government officials proposed the new federal law.\n",
            "preprocessed_input: the canadian government officials proposed the new federal law\n",
            "probabilities:\n",
            " {\n",
            "  \"World\": 0.9211286306381226,\n",
            "  \"Sci/Tech\": 0.0377366729080677,\n",
            "  \"Business\": 0.03729534149169922,\n",
            "  \"Sports\": 0.0038393063005059958\n",
            "}\n",
            "top_n_grams:\n",
            " {\n",
            "  \"2\": {\n",
            "    \"n_gram\": \"canadian government\",\n",
            "    \"start\": 1.0,\n",
            "    \"end\": 3.0\n",
            "  },\n",
            "  \"3\": {\n",
            "    \"n_gram\": \"federal law\",\n",
            "    \"start\": 7.0,\n",
            "    \"end\": 9.0\n",
            "  },\n",
            "  \"4\": {\n",
            "    \"n_gram\": \"proposed the new federal\",\n",
            "    \"start\": 4.0,\n",
            "    \"end\": 8.0\n",
            "  }\n",
            "}\n"
          ],
          "name": "stdout"
        }
      ]
    },
    {
      "cell_type": "markdown",
      "metadata": {
        "id": "U23uS7O6yKb7",
        "colab_type": "text"
      },
      "source": [
        "---\n",
        "Learn, explore and build at <a href=\"https://madewithml.com/\">Made With ML</a>.\n",
        "\n",
        "<div align=\"left\">\n",
        "<a class=\"ai-header-badge\" target=\"_blank\" href=\"https://github.com/madewithml/basics\"><img src=\"https://img.shields.io/github/stars/madewithml/basics.svg?style=social&label=Star\"></a>&nbsp;\n",
        "<a class=\"ai-header-badge\" target=\"_blank\" href=\"https://www.linkedin.com/company/madewithml\"><img src=\"https://img.shields.io/badge/style--5eba00.svg?label=LinkedIn&logo=linkedin&style=social\"></a>&nbsp;\n",
        "<a class=\"ai-header-badge\" target=\"_blank\" href=\"https://www.youtube.com/channel/UCaVCnFQXS7PYMoYZu3KdC0Q?sub_confirmation=1\"><img src=\"https://img.shields.io/badge/style--5eba00.svg?label=YouTube&logo=youtube&style=social\"></a>&nbsp;<a class=\"ai-header-badge\" target=\"_blank\" href=\"https://twitter.com/madewithml\"><img src=\"https://img.shields.io/twitter/follow/madewithml.svg?label=Follow&style=social\"></a>\n",
        "</div>\n",
        "             "
      ]
    }
  ]
}