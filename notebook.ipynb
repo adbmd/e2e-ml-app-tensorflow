{
  "nbformat": 4,
  "nbformat_minor": 0,
  "metadata": {
    "colab": {
      "name": "Copy of notebook.ipynb",
      "provenance": [],
      "collapsed_sections": []
    },
    "kernelspec": {
      "name": "python3",
      "display_name": "Python 3"
    },
    "accelerator": "GPU"
  },
  "cells": [
    {
      "cell_type": "markdown",
      "metadata": {
        "id": "F-4Wf0sSR4Ya",
        "colab_type": "text"
      },
      "source": [
        "# Text Classification w/ <img src=\"https://raw.githubusercontent.com/madewithml/images/master/images/tensorflow.png\" width=\"25rem\"> TensorFlow\n",
        "\n",
        "<div align=\"left\">\n",
        "<a href=\"https://github.com/madewithml/e2e-ml-app-tensorflow/blob/master/notebook.ipynb\" role=\"button\"><img class=\"notebook-badge-image\" src=\"https://img.shields.io/static/v1?label=&amp;message=View%20On%20GitHub&amp;color=586069&amp;logo=github&amp;labelColor=2f363d\"></a>&nbsp;\n",
        "<a href=\"https://colab.research.google.com/github/madewithml/e2e-ml-app-tensorflow/blob/master/notebook.ipynb\"><img class=\"notebook-badge-image\" src=\"https://colab.research.google.com/assets/colab-badge.svg\" alt=\"Open In Colab\"></a>\n",
        "</div>"
      ]
    },
    {
      "cell_type": "markdown",
      "metadata": {
        "id": "xYI4M5P8SkrD",
        "colab_type": "text"
      },
      "source": [
        "When building at end-to-end project, I often start with exploring the dataset and doing some basic modeling on a notebook first. The ability to execute code without having to rerun everything start to finish for every iterative change is great way to iterate quickly. \n",
        "\n",
        "→ Check out the full repo here: [e2e-ml-app-tensorflow](https://github.com/madewithml/e2e-ml-app-tensorflow)"
      ]
    },
    {
      "cell_type": "code",
      "metadata": {
        "id": "6rtRslD2Ugf1",
        "colab_type": "code",
        "colab": {}
      },
      "source": [
        "import numpy as np\n",
        "import pandas as pd\n",
        "import random\n",
        "import tensorflow as tf"
      ],
      "execution_count": 1,
      "outputs": []
    },
    {
      "cell_type": "markdown",
      "metadata": {
        "id": "dKtwSXN-UYjC",
        "colab_type": "text"
      },
      "source": [
        "## Set up"
      ]
    },
    {
      "cell_type": "code",
      "metadata": {
        "id": "bfI9XQiCUdCt",
        "colab_type": "code",
        "colab": {}
      },
      "source": [
        "seed = 1234"
      ],
      "execution_count": 2,
      "outputs": []
    },
    {
      "cell_type": "code",
      "metadata": {
        "id": "1fkcrIttUZ5k",
        "colab_type": "code",
        "colab": {}
      },
      "source": [
        "# Set seeds for reproducibility\n",
        "np.random.seed(seed)\n",
        "random.seed(seed)\n",
        "tf.random.set_seed(seed)"
      ],
      "execution_count": 3,
      "outputs": []
    },
    {
      "cell_type": "markdown",
      "metadata": {
        "id": "GjEXugL2UsL-",
        "colab_type": "text"
      },
      "source": [
        "## Load data"
      ]
    },
    {
      "cell_type": "code",
      "metadata": {
        "id": "2KpVCxwaUy5P",
        "colab_type": "code",
        "colab": {}
      },
      "source": [
        "data_size = 1.0 # use smaller sizes at the beginning to iterate quickly and catch errors\n",
        "url = \"https://raw.githubusercontent.com/madewithml/lessons/master/data/news.csv\""
      ],
      "execution_count": 4,
      "outputs": []
    },
    {
      "cell_type": "code",
      "metadata": {
        "id": "PAwO9PTcUqYA",
        "colab_type": "code",
        "colab": {
          "base_uri": "https://localhost:8080/",
          "height": 204
        },
        "outputId": "122d680b-7083-461f-e5fe-7bb61abaa8ec"
      },
      "source": [
        "# Load data\n",
        "df = pd.read_csv(url)\n",
        "df = df.sample(frac=1).reset_index(drop=True) # shuffle\n",
        "df.head()"
      ],
      "execution_count": 5,
      "outputs": [
        {
          "output_type": "execute_result",
          "data": {
            "text/html": [
              "<div>\n",
              "<style scoped>\n",
              "    .dataframe tbody tr th:only-of-type {\n",
              "        vertical-align: middle;\n",
              "    }\n",
              "\n",
              "    .dataframe tbody tr th {\n",
              "        vertical-align: top;\n",
              "    }\n",
              "\n",
              "    .dataframe thead th {\n",
              "        text-align: right;\n",
              "    }\n",
              "</style>\n",
              "<table border=\"1\" class=\"dataframe\">\n",
              "  <thead>\n",
              "    <tr style=\"text-align: right;\">\n",
              "      <th></th>\n",
              "      <th>title</th>\n",
              "      <th>category</th>\n",
              "    </tr>\n",
              "  </thead>\n",
              "  <tbody>\n",
              "    <tr>\n",
              "      <th>0</th>\n",
              "      <td>Sharon Accepts Plan to Reduce Gaza Army Operat...</td>\n",
              "      <td>World</td>\n",
              "    </tr>\n",
              "    <tr>\n",
              "      <th>1</th>\n",
              "      <td>Internet Key Battleground in Wildlife Crime Fight</td>\n",
              "      <td>Sci/Tech</td>\n",
              "    </tr>\n",
              "    <tr>\n",
              "      <th>2</th>\n",
              "      <td>July Durable Good Orders Rise 1.7 Percent</td>\n",
              "      <td>Business</td>\n",
              "    </tr>\n",
              "    <tr>\n",
              "      <th>3</th>\n",
              "      <td>Growing Signs of a Slowing on Wall Street</td>\n",
              "      <td>Business</td>\n",
              "    </tr>\n",
              "    <tr>\n",
              "      <th>4</th>\n",
              "      <td>The New Faces of Reality TV</td>\n",
              "      <td>World</td>\n",
              "    </tr>\n",
              "  </tbody>\n",
              "</table>\n",
              "</div>"
            ],
            "text/plain": [
              "                                               title  category\n",
              "0  Sharon Accepts Plan to Reduce Gaza Army Operat...     World\n",
              "1  Internet Key Battleground in Wildlife Crime Fight  Sci/Tech\n",
              "2          July Durable Good Orders Rise 1.7 Percent  Business\n",
              "3          Growing Signs of a Slowing on Wall Street  Business\n",
              "4                        The New Faces of Reality TV     World"
            ]
          },
          "metadata": {
            "tags": []
          },
          "execution_count": 5
        }
      ]
    },
    {
      "cell_type": "code",
      "metadata": {
        "id": "zlILPMyaU4KX",
        "colab_type": "code",
        "colab": {
          "base_uri": "https://localhost:8080/",
          "height": 34
        },
        "outputId": "c28a2362-c4b1-4155-d7e6-c78281a6d32a"
      },
      "source": [
        "# Reduce dataset\n",
        "# You should always overfit your models on a small\n",
        "# dataset first so you can catch errors quickly.\n",
        "df = df[:int(len(df)*data_size)]\n",
        "len(df)"
      ],
      "execution_count": 6,
      "outputs": [
        {
          "output_type": "execute_result",
          "data": {
            "text/plain": [
              "120000"
            ]
          },
          "metadata": {
            "tags": []
          },
          "execution_count": 6
        }
      ]
    },
    {
      "cell_type": "code",
      "metadata": {
        "id": "Fj7p-CO5VQan",
        "colab_type": "code",
        "colab": {
          "base_uri": "https://localhost:8080/",
          "height": 170
        },
        "outputId": "ebad8d17-b40a-4a03-ffdd-df3c54886de9"
      },
      "source": [
        "# Inputs and outputs\n",
        "X = df['title'].values\n",
        "y = df['category'].values\n",
        "X, y"
      ],
      "execution_count": 7,
      "outputs": [
        {
          "output_type": "execute_result",
          "data": {
            "text/plain": [
              "(array(['Sharon Accepts Plan to Reduce Gaza Army Operation, Haaretz Says',\n",
              "        'Internet Key Battleground in Wildlife Crime Fight',\n",
              "        'July Durable Good Orders Rise 1.7 Percent', ...,\n",
              "        'Musharraf says U.S. must address root of terrorism (Reuters)',\n",
              "        'Nuclear materials  #39;vanish #39; in Iraq',\n",
              "        'In Brief: Bowstreet unveils pre-packaged portal offerings'],\n",
              "       dtype=object),\n",
              " array(['World', 'Sci/Tech', 'Business', ..., 'World', 'World', 'Sci/Tech'],\n",
              "       dtype=object))"
            ]
          },
          "metadata": {
            "tags": []
          },
          "execution_count": 7
        }
      ]
    },
    {
      "cell_type": "markdown",
      "metadata": {
        "id": "EA_H-2_g_InK",
        "colab_type": "text"
      },
      "source": [
        "# Preprocess\n"
      ]
    },
    {
      "cell_type": "code",
      "metadata": {
        "id": "0f3qQr1aG46B",
        "colab_type": "code",
        "colab": {}
      },
      "source": [
        "import re"
      ],
      "execution_count": 10,
      "outputs": []
    },
    {
      "cell_type": "code",
      "metadata": {
        "id": "PhZ5PNWL_IzG",
        "colab_type": "code",
        "colab": {}
      },
      "source": [
        "def preprocess_texts(texts):\n",
        "    preprocessed_texts = []\n",
        "    for text in texts:\n",
        "        # remove items text in () ex. (Reuters)\n",
        "        # may want to refine to only remove if at end of text\n",
        "        text = re.sub(r'\\([^)]*\\)', '', text)\n",
        "\n",
        "        # spacing\n",
        "        text = re.sub(r\"([.,!?])\", r\" \\1 \", text)\n",
        "        text = re.sub(' +', ' ', text)  # remove multiple spaces\n",
        "        text = text.strip()\n",
        "\n",
        "        preprocessed_texts.append(text)\n",
        "    return preprocessed_texts"
      ],
      "execution_count": 11,
      "outputs": []
    },
    {
      "cell_type": "code",
      "metadata": {
        "id": "nZHNNqu__I2T",
        "colab_type": "code",
        "colab": {
          "base_uri": "https://localhost:8080/",
          "height": 51
        },
        "outputId": "2b0ed128-3da5-445f-f8f9-604e2cd625e8"
      },
      "source": [
        "# Preprocess (lowering/filtering is done later via TF tokenizer)\n",
        "original_X = X\n",
        "X = preprocess_texts(texts=X)\n",
        "print (\"Preprocessed data:\\n\" \n",
        "    f\"  {original_X[0]} → {X[0]}\")"
      ],
      "execution_count": 12,
      "outputs": [
        {
          "output_type": "stream",
          "text": [
            "Preprocessed data:\n",
            "  Sharon Accepts Plan to Reduce Gaza Army Operation, Haaretz Says → Sharon Accepts Plan to Reduce Gaza Army Operation , Haaretz Says\n"
          ],
          "name": "stdout"
        }
      ]
    },
    {
      "cell_type": "markdown",
      "metadata": {
        "id": "9EPlqi8IVkfY",
        "colab_type": "text"
      },
      "source": [
        "## Split data"
      ]
    },
    {
      "cell_type": "code",
      "metadata": {
        "id": "pv2E9jtoVoAh",
        "colab_type": "code",
        "colab": {}
      },
      "source": [
        "from sklearn.model_selection import train_test_split"
      ],
      "execution_count": 13,
      "outputs": []
    },
    {
      "cell_type": "code",
      "metadata": {
        "id": "8KyixkulVtZx",
        "colab_type": "code",
        "colab": {}
      },
      "source": [
        "val_size = 0.15\n",
        "test_size = 0.15\n",
        "shuffle = True"
      ],
      "execution_count": 14,
      "outputs": []
    },
    {
      "cell_type": "code",
      "metadata": {
        "id": "Cbk-mTzdVUbM",
        "colab_type": "code",
        "colab": {
          "base_uri": "https://localhost:8080/",
          "height": 85
        },
        "outputId": "ecb1ce84-d09e-4d62-dd55-2916ca40f9f5"
      },
      "source": [
        "# Split data\n",
        "X_train, X_test, y_train, y_test = train_test_split( # creating train and test\n",
        "        X, y, test_size=test_size, stratify=y, shuffle=shuffle)\n",
        "X_train, X_val, y_train, y_val = train_test_split( # creating train and val\n",
        "    X_train, y_train, test_size=val_size, stratify=y_train, shuffle=shuffle)\n",
        "print (\"Data splits:\\n\"\n",
        "        f\"  X_train: {len(X_train)}, y_train: {len(y_train)}\\n\"\n",
        "        f\"  X_val: {len(X_val)}, y_val: {len(y_val)}\\n\"\n",
        "        f\"  X_test: {len(X_test)}, y_test: {len(y_test)}\")"
      ],
      "execution_count": 15,
      "outputs": [
        {
          "output_type": "stream",
          "text": [
            "Data splits:\n",
            "  X_train: 86700, y_train: 86700\n",
            "  X_val: 15300, y_val: 15300\n",
            "  X_test: 18000, y_test: 18000\n"
          ],
          "name": "stdout"
        }
      ]
    },
    {
      "cell_type": "markdown",
      "metadata": {
        "id": "rxRC_FCeYAsf",
        "colab_type": "text"
      },
      "source": [
        "## Tokenization"
      ]
    },
    {
      "cell_type": "code",
      "metadata": {
        "id": "R65NAHNtYJmY",
        "colab_type": "code",
        "colab": {}
      },
      "source": [
        "from sklearn.preprocessing import LabelEncoder\n",
        "from tensorflow.keras.preprocessing.text import Tokenizer"
      ],
      "execution_count": 16,
      "outputs": []
    },
    {
      "cell_type": "code",
      "metadata": {
        "id": "CuLfw3oBYMLz",
        "colab_type": "code",
        "colab": {}
      },
      "source": [
        "filters = \"[!\\\"'#$%&()*\\+,-./:;<=>?@\\\\\\[\\]^_`{|}~]\"\n",
        "lower = True\n",
        "char_level = False"
      ],
      "execution_count": 17,
      "outputs": []
    },
    {
      "cell_type": "code",
      "metadata": {
        "id": "nMWDic8qXSLD",
        "colab_type": "code",
        "colab": {
          "base_uri": "https://localhost:8080/",
          "height": 34
        },
        "outputId": "68d40eff-753e-40f2-ecdc-9326e5971bb3"
      },
      "source": [
        "# Tokenizer\n",
        "X_tokenizer = Tokenizer(\n",
        "    filters=filters, lower=lower, char_level=char_level, oov_token='<UNK>')\n",
        "X_tokenizer.fit_on_texts(X_train)\n",
        "vocab_size = len(X_tokenizer.word_index) + 1  # +1 for padding token\n",
        "print (f\"vocab_size: {vocab_size}\")"
      ],
      "execution_count": 18,
      "outputs": [
        {
          "output_type": "stream",
          "text": [
            "vocab_size: 29794\n"
          ],
          "name": "stdout"
        }
      ]
    },
    {
      "cell_type": "code",
      "metadata": {
        "id": "sybNxe6JYZQI",
        "colab_type": "code",
        "colab": {
          "base_uri": "https://localhost:8080/",
          "height": 85
        },
        "outputId": "21cb70fe-6561-4428-af3d-8c8505b7b85e"
      },
      "source": [
        "# Convert texts to sequences of indices\n",
        "original_text = X_train[0]\n",
        "X_train = np.array(X_tokenizer.texts_to_sequences(X_train))\n",
        "X_val = np.array(X_tokenizer.texts_to_sequences(X_val))\n",
        "X_test = np.array(X_tokenizer.texts_to_sequences(X_test))\n",
        "preprocessed_text = X_tokenizer.sequences_to_texts([X_train[0]])[0]\n",
        "print (\"Text to indices:\\n\"\n",
        "    f\"  (raw) {original_text}\\n\"\n",
        "    f\"  (preprocessed) {preprocessed_text}\\n\"\n",
        "    f\"  (tokenized) {X_train[0]}\")"
      ],
      "execution_count": 19,
      "outputs": [
        {
          "output_type": "stream",
          "text": [
            "Text to indices:\n",
            "  (raw) Fed , Corporate Forecasts to Set Tone\n",
            "  (preprocessed) fed corporate forecasts to set tone\n",
            "  (tokenized) [374, 1266, 1419, 2, 70, 4780]\n"
          ],
          "name": "stdout"
        }
      ]
    },
    {
      "cell_type": "markdown",
      "metadata": {
        "id": "8O2IALdi9r1l",
        "colab_type": "text"
      },
      "source": [
        "## Label encoding"
      ]
    },
    {
      "cell_type": "code",
      "metadata": {
        "id": "pFzvaSaKY1Dl",
        "colab_type": "code",
        "colab": {
          "base_uri": "https://localhost:8080/",
          "height": 34
        },
        "outputId": "ebec0b07-6b88-4089-a72b-71b0660610ff"
      },
      "source": [
        "# Label encoder\n",
        "y_tokenizer = LabelEncoder()\n",
        "y_tokenizer = y_tokenizer.fit(y_train)\n",
        "classes = y_tokenizer.classes_\n",
        "print (f\"classes: {classes}\")"
      ],
      "execution_count": 20,
      "outputs": [
        {
          "output_type": "stream",
          "text": [
            "classes: ['Business' 'Sci/Tech' 'Sports' 'World']\n"
          ],
          "name": "stdout"
        }
      ]
    },
    {
      "cell_type": "code",
      "metadata": {
        "id": "CcVNGK7zZFbw",
        "colab_type": "code",
        "colab": {
          "base_uri": "https://localhost:8080/",
          "height": 51
        },
        "outputId": "fdaefca4-20b0-4b5c-d5b3-fae8eedcfb88"
      },
      "source": [
        "# Convert labels to tokens\n",
        "class_ = y_train[0]\n",
        "y_train = y_tokenizer.transform(y_train)\n",
        "y_val = y_tokenizer.transform(y_val)\n",
        "y_test = y_tokenizer.transform(y_test)\n",
        "print (\"Labels to indices:\\n\"\n",
        "    f\"  {class_} → {y_train[0]}\")"
      ],
      "execution_count": 21,
      "outputs": [
        {
          "output_type": "stream",
          "text": [
            "Labels to indices:\n",
            "  Business → 0\n"
          ],
          "name": "stdout"
        }
      ]
    },
    {
      "cell_type": "code",
      "metadata": {
        "id": "5EF7l3GAZQ9X",
        "colab_type": "code",
        "colab": {
          "base_uri": "https://localhost:8080/",
          "height": 85
        },
        "outputId": "34bde8dc-29ce-40e1-b69f-1520f7bb8d46"
      },
      "source": [
        "# Class weights\n",
        "counts = np.bincount(y_train)\n",
        "class_weights = {i: 1.0/count for i, count in enumerate(counts)}\n",
        "print (\"class counts:\\n\"\n",
        "    f\"  {counts}\\n\"\n",
        "    \"class weights:\\n\"\n",
        "    f\"  {class_weights}\")"
      ],
      "execution_count": 22,
      "outputs": [
        {
          "output_type": "stream",
          "text": [
            "class counts:\n",
            "  [21675 21675 21675 21675]\n",
            "class weights:\n",
            "  {0: 4.61361014994233e-05, 1: 4.61361014994233e-05, 2: 4.61361014994233e-05, 3: 4.61361014994233e-05}\n"
          ],
          "name": "stdout"
        }
      ]
    },
    {
      "cell_type": "markdown",
      "metadata": {
        "id": "7uAsfy7xbYor",
        "colab_type": "text"
      },
      "source": [
        "## Generators"
      ]
    },
    {
      "cell_type": "code",
      "metadata": {
        "id": "7DlSuZiSbnmW",
        "colab_type": "code",
        "colab": {}
      },
      "source": [
        "import math\n",
        "from tensorflow.keras.preprocessing.sequence import pad_sequences\n",
        "from tensorflow.keras.utils import Sequence"
      ],
      "execution_count": 23,
      "outputs": []
    },
    {
      "cell_type": "code",
      "metadata": {
        "id": "0FzIVfVfbwAQ",
        "colab_type": "code",
        "colab": {}
      },
      "source": [
        "batch_size = 64\n",
        "filter_sizes = [2, 3, 4]"
      ],
      "execution_count": 24,
      "outputs": []
    },
    {
      "cell_type": "code",
      "metadata": {
        "id": "Xn9X26uZbWHo",
        "colab_type": "code",
        "colab": {}
      },
      "source": [
        "class DataGenerator(Sequence):\n",
        "    \"\"\"Custom data loader.\"\"\"\n",
        "\n",
        "    def __init__(self, X, y, batch_size, max_filter_size, shuffle=False):\n",
        "        self.X = X\n",
        "        self.y = y\n",
        "        self.batch_size = batch_size\n",
        "        self.max_filter_size = max_filter_size\n",
        "        self.shuffle = shuffle\n",
        "        self.on_epoch_end()\n",
        "\n",
        "    def __len__(self):\n",
        "        \"\"\"# of batches.\"\"\"\n",
        "        return math.ceil(len(self.X) / self.batch_size)\n",
        "\n",
        "    def __str__(self):\n",
        "        return (f\"<DataGenerator(\"\n",
        "                f\"batch_size={self.batch_size}, \"\n",
        "                f\"batches={len(self)}, \"\n",
        "                f\"shuffle={self.shuffle})>\")\n",
        "\n",
        "    def __getitem__(self, index):\n",
        "        \"\"\"Generate a batch.\"\"\"\n",
        "        # Gather indices for this batch\n",
        "        batch_indices = self.epoch_indices[\n",
        "            index * self.batch_size:(index+1)*self.batch_size]\n",
        "\n",
        "        # Generate batch data\n",
        "        X = self.X[batch_indices]\n",
        "        y = self.y[batch_indices]\n",
        "\n",
        "        # Pad batch\n",
        "        max_seq_len = max(self.max_filter_size, max([len(x) for x in X]))\n",
        "        X = pad_sequences(X, padding=\"post\", maxlen=max_seq_len)\n",
        "\n",
        "        return X, y\n",
        "\n",
        "    def on_epoch_end(self):\n",
        "        \"\"\"Create indices after each epoch.\"\"\"\n",
        "        self.epoch_indices = np.arange(len(self.X))\n",
        "        if self.shuffle == True:\n",
        "            np.random.shuffle(self.epoch_indices)"
      ],
      "execution_count": 25,
      "outputs": []
    },
    {
      "cell_type": "code",
      "metadata": {
        "id": "YlDxqezNbj5W",
        "colab_type": "code",
        "colab": {
          "base_uri": "https://localhost:8080/",
          "height": 153
        },
        "outputId": "dc4cecd2-3793-4366-8fad-ab859304656e"
      },
      "source": [
        "# Dataset generators\n",
        "training_generator = DataGenerator(\n",
        "    X=X_train, y=y_train, batch_size=batch_size,\n",
        "    max_filter_size=max(filter_sizes))\n",
        "validation_generator = DataGenerator(\n",
        "    X=X_val, y=y_val, batch_size=batch_size,\n",
        "    max_filter_size=max(filter_sizes))\n",
        "testing_generator = DataGenerator(\n",
        "    X=X_test, y=y_test, batch_size=batch_size,\n",
        "    max_filter_size=max(filter_sizes))\n",
        "batch_X, batch_y = training_generator[0]  # sample\n",
        "print (\"Dataset generators:\\n\"\n",
        "    f\"  (training_generator) {training_generator}\\n\"\n",
        "    f\"  (validation_generator) {validation_generator}\\n\"\n",
        "    f\"  (testing_generator) {testing_generator}\\n\"\n",
        "    \"Sample batch:\\n\"\n",
        "    f\"  X: {batch_X.shape}\\n\"\n",
        "    f\"  y: {batch_y.shape}\\n\")"
      ],
      "execution_count": 26,
      "outputs": [
        {
          "output_type": "stream",
          "text": [
            "Dataset generators:\n",
            "  (training_generator) <DataGenerator(batch_size=64, batches=1355, shuffle=False)>\n",
            "  (validation_generator) <DataGenerator(batch_size=64, batches=240, shuffle=False)>\n",
            "  (testing_generator) <DataGenerator(batch_size=64, batches=282, shuffle=False)>\n",
            "Sample batch:\n",
            "  X: (64, 13)\n",
            "  y: (64,)\n",
            "\n"
          ],
          "name": "stdout"
        }
      ]
    },
    {
      "cell_type": "markdown",
      "metadata": {
        "id": "pxDlodx1cXUS",
        "colab_type": "text"
      },
      "source": [
        "## Model"
      ]
    },
    {
      "cell_type": "code",
      "metadata": {
        "id": "JOnykJwTcbMs",
        "colab_type": "code",
        "colab": {}
      },
      "source": [
        "from tensorflow import keras\n",
        "from tensorflow.keras.layers import Concatenate\n",
        "from tensorflow.keras.layers import Conv1D\n",
        "from tensorflow.keras.layers import Dense\n",
        "from tensorflow.keras.layers import Dropout\n",
        "from tensorflow.keras.layers import Embedding\n",
        "from tensorflow.keras.layers import GlobalMaxPool1D\n",
        "from tensorflow.keras.layers import Input\n",
        "from tensorflow.keras.models import Model\n",
        "from tensorflow.keras.utils import plot_model"
      ],
      "execution_count": 27,
      "outputs": []
    },
    {
      "cell_type": "code",
      "metadata": {
        "id": "4xw7p6GorJmF",
        "colab_type": "code",
        "colab": {}
      },
      "source": [
        "embedding_dim = 100\n",
        "num_filters = 50\n",
        "hidden_dim = 128\n",
        "dropout_p = 0.1\n",
        "freeze_embeddings = False"
      ],
      "execution_count": 28,
      "outputs": []
    },
    {
      "cell_type": "code",
      "metadata": {
        "id": "HTbdP6rQrFQ_",
        "colab_type": "code",
        "colab": {}
      },
      "source": [
        "class TextCNN(keras.Model):\n",
        "    def __init__(self, vocab_size, embedding_dim, filter_sizes, num_filters,\n",
        "                 hidden_dim, dropout_p, num_classes, freeze_embeddings=False):\n",
        "        super(TextCNN, self).__init__(name=\"cnn\")\n",
        "\n",
        "        # Embeddings\n",
        "        self.embedding = Embedding(\n",
        "            input_dim=vocab_size, output_dim=embedding_dim,\n",
        "            trainable=not freeze_embeddings)\n",
        "\n",
        "        # Conv & pool\n",
        "        self.convs = []\n",
        "        self.pools = []\n",
        "        for filter_size in filter_sizes:\n",
        "            conv = Conv1D(\n",
        "                filters=num_filters, kernel_size=filter_size,\n",
        "                padding='same', activation='relu')\n",
        "            pool = GlobalMaxPool1D(data_format='channels_last')\n",
        "            self.convs.append(conv)\n",
        "            self.pools.append(pool)\n",
        "\n",
        "        # Concatenation\n",
        "        self.concat = Concatenate(axis=1)\n",
        "\n",
        "        # FC layers\n",
        "        self.fc1 = Dense(units=hidden_dim, activation='relu')\n",
        "        self.dropout = Dropout(rate=dropout_p)\n",
        "        self.fc2 = Dense(units=num_classes, activation='softmax')\n",
        "\n",
        "    def call(self, x_in, training=False):\n",
        "        \"\"\"Forward pass.\"\"\"\n",
        "\n",
        "        # Embed\n",
        "        x_emb = self.embedding(x_in)\n",
        "\n",
        "        # Conv & pool\n",
        "        convs = []\n",
        "        for i in range(len(self.convs)):\n",
        "            z = self.convs[i](x_emb)\n",
        "            z = self.pools[i](z)\n",
        "            convs.append(z)\n",
        "\n",
        "        # Concatenate\n",
        "        z_cat = self.concat(convs)\n",
        "\n",
        "        # FC\n",
        "        z = self.fc1(z_cat)\n",
        "        if training:\n",
        "            z = self.dropout(z, training=training)\n",
        "        logits = self.fc2(z)\n",
        "\n",
        "        return logits\n",
        "\n",
        "    def compile(self, learning_rate):\n",
        "        super(TextCNN, self).compile()\n",
        "        self.optimizer = Adam(lr=learning_rate)\n",
        "        self.loss_fn = SparseCategoricalCrossentropy()\n",
        "        self.accuracy_fn = SparseCategoricalAccuracy()\n",
        "\n",
        "    def train_step(self, batch):\n",
        "        X, y, _ =  batch\n",
        "        \n",
        "        with tf.GradientTape() as tape:\n",
        "            y_pred = self.call(X, training=True)\n",
        "            loss = self.loss_fn(y, y_pred)\n",
        "            accuracy = self.accuracy_fn(y, y_pred)\n",
        "        \n",
        "        grads = tape.gradient(loss, self.trainable_weights)\n",
        "        self.optimizer.apply_gradients(zip(grads, self.trainable_weights)) \n",
        "        \n",
        "        return {'loss':loss, 'accuracy': accuracy}\n",
        "\n",
        "    def test_step(self, batch):\n",
        "        X, y =  batch\n",
        "        y_pred = self.call(X)\n",
        "        loss = self.loss_fn(y, y_pred)\n",
        "        accuracy = self.accuracy_fn(y, y_pred)\n",
        "        return {'loss':loss, 'accuracy': accuracy}\n",
        "\n",
        "    def summary(self, input_shape):\n",
        "        x_in = Input(shape=input_shape, name='X')\n",
        "        summary = Model(inputs=x_in, outputs=self.call(x_in), name=self.name)\n",
        "        return summary"
      ],
      "execution_count": 29,
      "outputs": []
    },
    {
      "cell_type": "code",
      "metadata": {
        "id": "3444wAFWb4qG",
        "colab_type": "code",
        "colab": {
          "base_uri": "https://localhost:8080/",
          "height": 34
        },
        "outputId": "d2b9d725-1996-47c9-8b19-4b4ab87d4417"
      },
      "source": [
        "# Initialize model\n",
        "model = TextCNN(\n",
        "    vocab_size=vocab_size, embedding_dim=embedding_dim,\n",
        "    filter_sizes=filter_sizes, num_filters=num_filters,\n",
        "    hidden_dim=hidden_dim, dropout_p=dropout_p,\n",
        "    num_classes=len(y_tokenizer.classes_),\n",
        "    freeze_embeddings=freeze_embeddings)\n",
        "model.summary(input_shape=(10,))  # build it"
      ],
      "execution_count": 30,
      "outputs": [
        {
          "output_type": "execute_result",
          "data": {
            "text/plain": [
              "<tensorflow.python.keras.engine.training.Model at 0x7f2b4463c4e0>"
            ]
          },
          "metadata": {
            "tags": []
          },
          "execution_count": 30
        }
      ]
    },
    {
      "cell_type": "markdown",
      "metadata": {
        "id": "H-HTbyjQDH6N",
        "colab_type": "text"
      },
      "source": [
        "## Train"
      ]
    },
    {
      "cell_type": "code",
      "metadata": {
        "id": "I-YL-Z-NDJ8m",
        "colab_type": "code",
        "colab": {}
      },
      "source": [
        "from tensorflow.keras.callbacks import Callback\n",
        "from tensorflow.keras.callbacks import EarlyStopping\n",
        "from tensorflow.keras.callbacks import ModelCheckpoint\n",
        "from tensorflow.keras.callbacks import ReduceLROnPlateau\n",
        "from tensorflow.keras.losses import SparseCategoricalCrossentropy\n",
        "from tensorflow.keras.metrics import SparseCategoricalAccuracy\n",
        "from tensorflow.keras.optimizers import Adam"
      ],
      "execution_count": 31,
      "outputs": []
    },
    {
      "cell_type": "code",
      "metadata": {
        "id": "AYxpIjokBoXL",
        "colab_type": "code",
        "colab": {}
      },
      "source": [
        "learning_rate = 1e-4\n",
        "patience = 3 # early stopping\n",
        "num_epochs = 10"
      ],
      "execution_count": 32,
      "outputs": []
    },
    {
      "cell_type": "code",
      "metadata": {
        "id": "JdOQ-YECGEqT",
        "colab_type": "code",
        "colab": {}
      },
      "source": [
        "# Compile\n",
        "model.compile(learning_rate=learning_rate)"
      ],
      "execution_count": 33,
      "outputs": []
    },
    {
      "cell_type": "code",
      "metadata": {
        "id": "pYSc-OkZBoUi",
        "colab_type": "code",
        "colab": {}
      },
      "source": [
        "# Callbacks\n",
        "callbacks = [EarlyStopping(monitor='val_loss', patience=patience, verbose=1, mode='min'),\n",
        "             ReduceLROnPlateau(patience=1, factor=0.1, verbose=0)]"
      ],
      "execution_count": 34,
      "outputs": []
    },
    {
      "cell_type": "code",
      "metadata": {
        "id": "lGcGIn9jBXL-",
        "colab_type": "code",
        "colab": {
          "base_uri": "https://localhost:8080/",
          "height": 204
        },
        "outputId": "c01dc9f1-ccc1-4bbc-cc7d-ab50f01a059b"
      },
      "source": [
        "# Train\n",
        "training_history = model.fit(\n",
        "    x=training_generator, epochs=num_epochs, validation_data=validation_generator,\n",
        "    callbacks=callbacks, shuffle=False, class_weight=class_weights, verbose=1)"
      ],
      "execution_count": 35,
      "outputs": [
        {
          "output_type": "stream",
          "text": [
            "Epoch 1/10\n",
            "1355/1355 [==============================] - 40s 29ms/step - loss: 0.9529 - accuracy: 0.4916 - val_loss: 0.1687 - val_accuracy: 0.8326 - lr: 1.0000e-04\n",
            "Epoch 2/10\n",
            "1355/1355 [==============================] - 38s 28ms/step - loss: 0.4004 - accuracy: 0.8478 - val_loss: 0.1123 - val_accuracy: 0.8596 - lr: 1.0000e-04\n",
            "Epoch 3/10\n",
            "1355/1355 [==============================] - 39s 29ms/step - loss: 0.2940 - accuracy: 0.8952 - val_loss: 0.1167 - val_accuracy: 0.8652 - lr: 1.0000e-04\n",
            "Epoch 4/10\n",
            "1355/1355 [==============================] - 39s 29ms/step - loss: 0.2245 - accuracy: 0.9206 - val_loss: 0.1448 - val_accuracy: 0.8647 - lr: 1.0000e-05\n",
            "Epoch 5/10\n",
            "1355/1355 [==============================] - 39s 29ms/step - loss: 0.2178 - accuracy: 0.9236 - val_loss: 0.1452 - val_accuracy: 0.8650 - lr: 1.0000e-06\n",
            "Epoch 00005: early stopping\n"
          ],
          "name": "stdout"
        }
      ]
    },
    {
      "cell_type": "markdown",
      "metadata": {
        "id": "xlopD1dcsMNG",
        "colab_type": "text"
      },
      "source": [
        "## Evaluation\n"
      ]
    },
    {
      "cell_type": "code",
      "metadata": {
        "id": "QawTL8x6sYCm",
        "colab_type": "code",
        "colab": {}
      },
      "source": [
        "import itertools\n",
        "import json\n",
        "import matplotlib.pyplot as plt\n",
        "from sklearn.metrics import confusion_matrix\n",
        "from sklearn.metrics import precision_recall_fscore_support"
      ],
      "execution_count": 36,
      "outputs": []
    },
    {
      "cell_type": "code",
      "metadata": {
        "id": "sulWQZzVsJzn",
        "colab_type": "code",
        "colab": {
          "base_uri": "https://localhost:8080/",
          "height": 102
        },
        "outputId": "c15797b1-20b0-4297-dc6c-1f901d3bde01"
      },
      "source": [
        "# Evaluation\n",
        "test_history = model.evaluate(x=testing_generator, return_dict=True)\n",
        "y_pred = model.predict(x=testing_generator, verbose=1)\n",
        "y_pred = np.argmax(y_pred, axis=1)\n",
        "print (\"Test performance:\\n\"\n",
        "    f\"  test_loss: {test_history['loss']:.2f}\\n\"\n",
        "    f\"  test_acc: {test_history['accuracy']:.1f}\")"
      ],
      "execution_count": 61,
      "outputs": [
        {
          "output_type": "stream",
          "text": [
            "282/282 [==============================] - 1s 2ms/step - loss: 0.4050 - accuracy: 0.8632\n",
            "282/282 [==============================] - 1s 2ms/step\n",
            "Test performance:\n",
            "  test_loss: 0.20\n",
            "  test_acc: 0.9\n"
          ],
          "name": "stdout"
        }
      ]
    },
    {
      "cell_type": "code",
      "metadata": {
        "id": "R5JC_3h9tXHn",
        "colab_type": "code",
        "colab": {
          "base_uri": "https://localhost:8080/",
          "height": 595
        },
        "outputId": "3cc484a9-aed2-41e6-dd07-e8d9b82dd96d"
      },
      "source": [
        "# Performance\n",
        "performance = {'overall': {}, 'class': {}}\n",
        "metrics = precision_recall_fscore_support(y_test, y_pred)\n",
        "\n",
        "# Overall performance\n",
        "performance['overall']['precision'] = np.mean(metrics[0])\n",
        "performance['overall']['recall'] = np.mean(metrics[1])\n",
        "performance['overall']['f1'] = np.mean(metrics[2])\n",
        "performance['overall']['num_samples'] = np.float64(np.sum(metrics[3]))\n",
        "\n",
        "# Per-class performance\n",
        "for i in range(len(classes)):\n",
        "    performance['class'][classes[i]] = {\n",
        "        \"precision\": metrics[0][i],\n",
        "        \"recall\": metrics[1][i],\n",
        "        \"f1\": metrics[2][i],\n",
        "        \"num_samples\": np.float64(metrics[3][i])\n",
        "    }\n",
        "\n",
        "print (json.dumps(performance, indent=2))"
      ],
      "execution_count": 38,
      "outputs": [
        {
          "output_type": "stream",
          "text": [
            "{\n",
            "  \"overall\": {\n",
            "    \"precision\": 0.8648432294097729,\n",
            "    \"recall\": 0.8647777777777776,\n",
            "    \"f1\": 0.8647141315562491,\n",
            "    \"num_samples\": 18000.0\n",
            "  },\n",
            "  \"class\": {\n",
            "    \"Business\": {\n",
            "      \"precision\": 0.8235037134119703,\n",
            "      \"recall\": 0.8377777777777777,\n",
            "      \"f1\": 0.8305794227803481,\n",
            "      \"num_samples\": 4500.0\n",
            "    },\n",
            "    \"Sci/Tech\": {\n",
            "      \"precision\": 0.8500897666068222,\n",
            "      \"recall\": 0.8417777777777777,\n",
            "      \"f1\": 0.8459133541759714,\n",
            "      \"num_samples\": 4500.0\n",
            "    },\n",
            "    \"Sports\": {\n",
            "      \"precision\": 0.9030223961730811,\n",
            "      \"recall\": 0.9228888888888889,\n",
            "      \"f1\": 0.9128475656665568,\n",
            "      \"num_samples\": 4500.0\n",
            "    },\n",
            "    \"World\": {\n",
            "      \"precision\": 0.8827570414472178,\n",
            "      \"recall\": 0.8566666666666667,\n",
            "      \"f1\": 0.8695161836021202,\n",
            "      \"num_samples\": 4500.0\n",
            "    }\n",
            "  }\n",
            "}\n"
          ],
          "name": "stdout"
        }
      ]
    },
    {
      "cell_type": "code",
      "metadata": {
        "id": "fA9jDQPTsRW9",
        "colab_type": "code",
        "colab": {
          "base_uri": "https://localhost:8080/",
          "height": 306
        },
        "outputId": "2dc81f2c-32af-4515-a4df-2959b0703c5a"
      },
      "source": [
        "# Confusion matrix\n",
        "cm = confusion_matrix(y_test, y_pred)\n",
        "cm_norm = cm.astype('float') / cm.sum(axis=1)[:, np.newaxis]\n",
        "\n",
        "#  Figure\n",
        "fig = plt.figure()\n",
        "ax = fig.add_subplot(111)\n",
        "cax = ax.matshow(cm, cmap=plt.cm.Blues)\n",
        "fig.colorbar(cax)\n",
        "\n",
        "# Axis\n",
        "plt.title(\"Confusion matrix\")\n",
        "plt.ylabel(\"True label\")\n",
        "plt.xlabel(\"Predicted label\")\n",
        "ax.set_xticklabels([''] + classes)\n",
        "ax.set_yticklabels([''] + classes)\n",
        "ax.xaxis.set_label_position('bottom')\n",
        "ax.xaxis.tick_bottom()\n",
        "\n",
        "# Values\n",
        "thresh = cm.max() / 2.\n",
        "for i, j in itertools.product(range(cm.shape[0]), range(cm.shape[1])):\n",
        "    plt.text(j, i, f\"{cm[i, j]:d} ({cm_norm[i, j]*100:.1f}%)\",\n",
        "                horizontalalignment=\"center\",\n",
        "                color=\"white\" if cm[i, j] > thresh else \"black\")"
      ],
      "execution_count": 39,
      "outputs": [
        {
          "output_type": "display_data",
          "data": {
            "image/png": "[encoded data removed]",
            "text/plain": [
              "<Figure size 432x288 with 2 Axes>"
            ]
          },
          "metadata": {
            "tags": [],
            "needs_background": "light"
          }
        }
      ]
    },
    {
      "cell_type": "markdown",
      "metadata": {
        "id": "YxdzscVPtAMx",
        "colab_type": "text"
      },
      "source": [
        "## Prediction"
      ]
    },
    {
      "cell_type": "code",
      "metadata": {
        "id": "x8KYyi0Jwx9m",
        "colab_type": "code",
        "colab": {}
      },
      "source": [
        "from collections import Counter"
      ],
      "execution_count": 40,
      "outputs": []
    },
    {
      "cell_type": "code",
      "metadata": {
        "id": "SucL7zwouGxY",
        "colab_type": "code",
        "colab": {}
      },
      "source": [
        "class ConvOutputsModel(Model):\n",
        "    def __init__(self, vocab_size, embedding_dim,\n",
        "                 filter_sizes, num_filters):\n",
        "        super(ConvOutputsModel, self).__init__()\n",
        "\n",
        "        # Embeddings\n",
        "        self.embedding = Embedding(input_dim=vocab_size,\n",
        "                                   output_dim=embedding_dim)\n",
        "\n",
        "        # Conv & pool\n",
        "        self.convs = []\n",
        "        for filter_size in filter_sizes:\n",
        "            conv = Conv1D(filters=num_filters, kernel_size=filter_size,\n",
        "                          padding='same', activation='relu')\n",
        "            self.convs.append(conv)\n",
        "\n",
        "    def call(self, x_in, training=False):\n",
        "        \"\"\"Forward pass.\"\"\"\n",
        "\n",
        "        # Embed\n",
        "        x_emb = self.embedding(x_in)\n",
        "\n",
        "        # Conv\n",
        "        convs = []\n",
        "        for i in range(len(self.convs)):\n",
        "            z = self.convs[i](x_emb)\n",
        "            convs.append(z)\n",
        "\n",
        "        return convs\n",
        "\n",
        "    def summary(self, input_shape):\n",
        "        x_in = Input(shape=input_shape, name='X')\n",
        "        summary = Model(inputs=x_in, outputs=self.call(x_in), name=self.name)\n",
        "        return summary"
      ],
      "execution_count": 41,
      "outputs": []
    },
    {
      "cell_type": "code",
      "metadata": {
        "id": "voQxTlgfs_ya",
        "colab_type": "code",
        "colab": {
          "base_uri": "https://localhost:8080/",
          "height": 34
        },
        "outputId": "7a26a59f-0861-4489-d751-8791af6951bb"
      },
      "source": [
        "text = input(\"Enter text to classify: \")"
      ],
      "execution_count": 42,
      "outputs": [
        {
          "output_type": "stream",
          "text": [
            "Enter text to classify: The Canadian government officials proposed the new federal law.\n"
          ],
          "name": "stdout"
        }
      ]
    },
    {
      "cell_type": "code",
      "metadata": {
        "id": "fF2nUaUTtzAp",
        "colab_type": "code",
        "colab": {}
      },
      "source": [
        "# Create prediction dataset generator\n",
        "X = np.array(X_tokenizer.texts_to_sequences([text]))\n",
        "preprocessed_texts = X_tokenizer.sequences_to_texts(X)\n",
        "y_filler = np.array([0]*len(X))\n",
        "generator = DataGenerator(\n",
        "    X=X, y=y_filler, batch_size=batch_size,\n",
        "    max_filter_size=max(filter_sizes))"
      ],
      "execution_count": 43,
      "outputs": []
    },
    {
      "cell_type": "code",
      "metadata": {
        "id": "57F1zvJquR3h",
        "colab_type": "code",
        "colab": {}
      },
      "source": [
        "# Conv outputs model\n",
        "conv_outputs_model = ConvOutputsModel(\n",
        "    vocab_size=vocab_size, embedding_dim=embedding_dim, \n",
        "    filter_sizes=filter_sizes, num_filters=num_filters)"
      ],
      "execution_count": 44,
      "outputs": []
    },
    {
      "cell_type": "code",
      "metadata": {
        "id": "TUsq9crxt-2O",
        "colab_type": "code",
        "colab": {
          "base_uri": "https://localhost:8080/",
          "height": 51
        },
        "outputId": "4fa915d5-0a0a-4058-ff02-53fe1d38ee7e"
      },
      "source": [
        "# Predict\n",
        "results = []\n",
        "y_prob = model.predict(x=generator, verbose=1)\n",
        "conv_outputs = conv_outputs_model.predict(x=generator, verbose=1)"
      ],
      "execution_count": 45,
      "outputs": [
        {
          "output_type": "stream",
          "text": [
            "1/1 [==============================] - 0s 690us/step\n",
            "1/1 [==============================] - 0s 852us/step\n"
          ],
          "name": "stdout"
        }
      ]
    },
    {
      "cell_type": "code",
      "metadata": {
        "id": "AiRtSKLguL7W",
        "colab_type": "code",
        "colab": {}
      },
      "source": [
        "# Probability distribution\n",
        "prob_dist = {}\n",
        "for i, class_ in enumerate(classes):\n",
        "    prob_dist[class_] = np.float64(y_prob[0][i])\n",
        "prob_dist = {k: v for k, v in sorted(\n",
        "    prob_dist.items(), key=lambda item: item[1], reverse=True)}"
      ],
      "execution_count": 46,
      "outputs": []
    },
    {
      "cell_type": "code",
      "metadata": {
        "id": "SIrPWE5Fu98N",
        "colab_type": "code",
        "colab": {}
      },
      "source": [
        "# Process conv outputs for each unique filter size\n",
        "n_grams = {}\n",
        "tokens = preprocessed_texts[0].split(' ')\n",
        "for i, filter_size in enumerate(filter_sizes):\n",
        "\n",
        "    # Identify most important n-gram for each filter's output\n",
        "    popular_indices = Counter(\n",
        "        np.argmax(conv_outputs[i][0], axis=0))\n",
        "\n",
        "    # Get corresponding text\n",
        "    start = popular_indices.most_common(2)[-1][0]\n",
        "    end = min(len(tokens), start+filter_size)\n",
        "    n_gram = \" \".join([token for token in tokens[start:end]])\n",
        "    n_grams[filter_size] = {\n",
        "        'n_gram': n_gram,\n",
        "        'start': np.float64(start),\n",
        "        'end': np.float64(end)\n",
        "        }"
      ],
      "execution_count": 47,
      "outputs": []
    },
    {
      "cell_type": "code",
      "metadata": {
        "id": "p34wqnehu9-7",
        "colab_type": "code",
        "colab": {
          "base_uri": "https://localhost:8080/",
          "height": 476
        },
        "outputId": "9f5e7e43-edb9-4658-a0cd-1e73562a96e1"
      },
      "source": [
        "print ('raw_input:', text)\n",
        "print ('preprocessed_input:', preprocessed_texts[0])\n",
        "print ('probabilities:\\n', json.dumps(prob_dist, indent=2))\n",
        "print ('top_n_grams:\\n', json.dumps(n_grams, indent=2))"
      ],
      "execution_count": 48,
      "outputs": [
        {
          "output_type": "stream",
          "text": [
            "raw_input: The Canadian government officials proposed the new federal law.\n",
            "preprocessed_input: the canadian government officials proposed the new federal law\n",
            "probabilities:\n",
            " {\n",
            "  \"World\": 0.6694431304931641,\n",
            "  \"Sci/Tech\": 0.17240720987319946,\n",
            "  \"Business\": 0.1531640589237213,\n",
            "  \"Sports\": 0.004985610023140907\n",
            "}\n",
            "top_n_grams:\n",
            " {\n",
            "  \"2\": {\n",
            "    \"n_gram\": \"federal law\",\n",
            "    \"start\": 7.0,\n",
            "    \"end\": 9.0\n",
            "  },\n",
            "  \"3\": {\n",
            "    \"n_gram\": \"new federal law\",\n",
            "    \"start\": 6.0,\n",
            "    \"end\": 9.0\n",
            "  },\n",
            "  \"4\": {\n",
            "    \"n_gram\": \"federal law\",\n",
            "    \"start\": 7.0,\n",
            "    \"end\": 9.0\n",
            "  }\n",
            "}\n"
          ],
          "name": "stdout"
        }
      ]
    },
    {
      "cell_type": "markdown",
      "metadata": {
        "id": "U23uS7O6yKb7",
        "colab_type": "text"
      },
      "source": [
        "---\n",
        "Learn, explore and build at <a href=\"https://madewithml.com/\">Made With ML</a>.\n",
        "\n",
        "<div align=\"left\">\n",
        "<a class=\"ai-header-badge\" target=\"_blank\" href=\"https://github.com/madewithml/basics\"><img src=\"https://img.shields.io/github/stars/madewithml/basics.svg?style=social&label=Star\"></a>&nbsp;\n",
        "<a class=\"ai-header-badge\" target=\"_blank\" href=\"https://www.linkedin.com/company/madewithml\"><img src=\"https://img.shields.io/badge/style--5eba00.svg?label=LinkedIn&logo=linkedin&style=social\"></a>&nbsp;\n",
        "<a class=\"ai-header-badge\" target=\"_blank\" href=\"https://www.youtube.com/channel/UCaVCnFQXS7PYMoYZu3KdC0Q?sub_confirmation=1\"><img src=\"https://img.shields.io/badge/style--5eba00.svg?label=YouTube&logo=youtube&style=social\"></a>&nbsp;<a class=\"ai-header-badge\" target=\"_blank\" href=\"https://twitter.com/madewithml\"><img src=\"https://img.shields.io/twitter/follow/madewithml.svg?label=Follow&style=social\"></a>\n",
        "</div>\n",
        "             "
      ]
    }
  ]
}